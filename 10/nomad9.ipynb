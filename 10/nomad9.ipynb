{
 "cells": [
  {
   "cell_type": "code",
   "execution_count": 3,
   "id": "8154df90",
   "metadata": {},
   "outputs": [
    {
     "name": "stdout",
     "output_type": "stream",
     "text": [
      "M\n"
     ]
    }
   ],
   "source": [
    "import configparser\n",
    "\n",
    "config_reader = configparser.ConfigParser()\n",
    "config_reader.read('login.cfg')\n",
    "print(config_reader['Default']['screen'])\n",
    "# print(config_reader['Default']['password'])"
   ]
  },
  {
   "cell_type": "code",
   "execution_count": 4,
   "id": "173ae43d",
   "metadata": {},
   "outputs": [],
   "source": [
    "import configparser\n",
    "\n",
    "config_writer = configparser.ConfigParser()\n",
    "\n",
    "config_writer['Default'] = {\n",
    "    'screen' : 'M'\n",
    "}\n",
    "\n",
    "with open('login.cfg', 'w') as configfile:\n",
    "    config_writer.write(configfile)"
   ]
  },
  {
   "cell_type": "code",
   "execution_count": 10,
   "id": "d841ab1e",
   "metadata": {},
   "outputs": [
    {
     "name": "stdout",
     "output_type": "stream",
     "text": [
      "45 10\n",
      "Test2\n",
      "80 10\n",
      "Test3\n",
      "115 10\n",
      "Profile1\n",
      "150 10\n",
      "Profile2\n"
     ]
    }
   ],
   "source": [
    "import os, json\n",
    "x, y = 10, 10\n",
    "for i in os.listdir('Actions'):\n",
    "    x += 35\n",
    "    print(x,y)\n",
    "    with open('Actions/'+i) as p:\n",
    "        var = json.load(p)\n",
    "    print(var['name'])"
   ]
  },
  {
   "cell_type": "code",
   "execution_count": 7,
   "id": "24cc9d17",
   "metadata": {},
   "outputs": [
    {
     "data": {
      "text/plain": [
       "['.ipynb_checkpoints',\n",
       " 'Actions',\n",
       " 'assets',\n",
       " 'feed_back.png',\n",
       " 'fonts.jpg',\n",
       " 'Icons',\n",
       " 'NoMad.py',\n",
       " 'nomad9.ipynb',\n",
       " 'Profiles',\n",
       " 'Save.py',\n",
       " 'user.png',\n",
       " '__pycache__']"
      ]
     },
     "execution_count": 7,
     "metadata": {},
     "output_type": "execute_result"
    }
   ],
   "source": [
    "import os\n",
    "os.listdir('./')"
   ]
  },
  {
   "cell_type": "code",
   "execution_count": 11,
   "id": "9a4948bd",
   "metadata": {},
   "outputs": [
    {
     "data": {
      "text/plain": [
       "'Hello'"
      ]
     },
     "execution_count": 11,
     "metadata": {},
     "output_type": "execute_result"
    }
   ],
   "source": [
    "for x in range(0, 9):\n",
    "    globals()['string%s' % x] = 'Hello'\n",
    "string8"
   ]
  },
  {
   "cell_type": "code",
   "execution_count": null,
   "id": "ebcb6008",
   "metadata": {},
   "outputs": [],
   "source": []
  }
 ],
 "metadata": {
  "kernelspec": {
   "display_name": "Python 3 (ipykernel)",
   "language": "python",
   "name": "python3"
  },
  "language_info": {
   "codemirror_mode": {
    "name": "ipython",
    "version": 3
   },
   "file_extension": ".py",
   "mimetype": "text/x-python",
   "name": "python",
   "nbconvert_exporter": "python",
   "pygments_lexer": "ipython3",
   "version": "3.9.12"
  }
 },
 "nbformat": 4,
 "nbformat_minor": 5
}
