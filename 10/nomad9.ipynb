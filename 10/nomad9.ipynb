{
 "cells": [
  {
   "cell_type": "code",
   "execution_count": 3,
   "id": "8154df90",
   "metadata": {},
   "outputs": [
    {
     "name": "stdout",
     "output_type": "stream",
     "text": [
      "M\n"
     ]
    }
   ],
   "source": [
    "import configparser\n",
    "\n",
    "config_reader = configparser.ConfigParser()\n",
    "config_reader.read('login.cfg')\n",
    "print(config_reader['Default']['screen'])\n",
    "# print(config_reader['Default']['password'])"
   ]
  },
  {
   "cell_type": "code",
   "execution_count": 4,
   "id": "173ae43d",
   "metadata": {},
   "outputs": [],
   "source": [
    "import configparser\n",
    "\n",
    "config_writer = configparser.ConfigParser()\n",
    "\n",
    "config_writer['Default'] = {\n",
    "    'screen' : 'M'\n",
    "}\n",
    "\n",
    "with open('login.cfg', 'w') as configfile:\n",
    "    config_writer.write(configfile)"
   ]
  },
  {
   "cell_type": "code",
   "execution_count": null,
   "id": "d841ab1e",
   "metadata": {},
   "outputs": [],
   "source": []
  }
 ],
 "metadata": {
  "kernelspec": {
   "display_name": "Python 3 (ipykernel)",
   "language": "python",
   "name": "python3"
  },
  "language_info": {
   "codemirror_mode": {
    "name": "ipython",
    "version": 3
   },
   "file_extension": ".py",
   "mimetype": "text/x-python",
   "name": "python",
   "nbconvert_exporter": "python",
   "pygments_lexer": "ipython3",
   "version": "3.9.12"
  }
 },
 "nbformat": 4,
 "nbformat_minor": 5
}
