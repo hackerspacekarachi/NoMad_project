{
 "cells": [
  {
   "cell_type": "code",
   "execution_count": 3,
   "id": "8154df90",
   "metadata": {},
   "outputs": [
    {
     "name": "stdout",
     "output_type": "stream",
     "text": [
      "M\n"
     ]
    }
   ],
   "source": [
    "import configparser\n",
    "\n",
    "config_reader = configparser.ConfigParser()\n",
    "config_reader.read('login.cfg')\n",
    "print(config_reader['Default']['screen'])\n",
    "# print(config_reader['Default']['password'])"
   ]
  },
  {
   "cell_type": "code",
   "execution_count": 4,
   "id": "173ae43d",
   "metadata": {},
   "outputs": [],
   "source": [
    "import configparser\n",
    "\n",
    "config_writer = configparser.ConfigParser()\n",
    "\n",
    "config_writer['Default'] = {\n",
    "    'screen' : 'M'\n",
    "}\n",
    "\n",
    "with open('login.cfg', 'w') as configfile:\n",
    "    config_writer.write(configfile)"
   ]
  },
  {
   "cell_type": "code",
   "execution_count": 10,
   "id": "d841ab1e",
   "metadata": {},
   "outputs": [
    {
     "name": "stdout",
     "output_type": "stream",
     "text": [
      "45 10\n",
      "Test2\n",
      "80 10\n",
      "Test3\n",
      "115 10\n",
      "Profile1\n",
      "150 10\n",
      "Profile2\n"
     ]
    }
   ],
   "source": [
    "import os, json\n",
    "x, y = 10, 10\n",
    "for i in os.listdir('Actions'):\n",
    "    x += 35\n",
    "    print(x,y)\n",
    "    with open('Actions/'+i) as p:\n",
    "        var = json.load(p)\n",
    "    print(var['name'])"
   ]
  },
  {
   "cell_type": "code",
   "execution_count": 7,
   "id": "24cc9d17",
   "metadata": {},
   "outputs": [
    {
     "data": {
      "text/plain": [
       "['.ipynb_checkpoints',\n",
       " 'Actions',\n",
       " 'assets',\n",
       " 'feed_back.png',\n",
       " 'fonts.jpg',\n",
       " 'Icons',\n",
       " 'NoMad.py',\n",
       " 'nomad9.ipynb',\n",
       " 'Profiles',\n",
       " 'Save.py',\n",
       " 'user.png',\n",
       " '__pycache__']"
      ]
     },
     "execution_count": 7,
     "metadata": {},
     "output_type": "execute_result"
    }
   ],
   "source": [
    "import os\n",
    "os.listdir('./')"
   ]
  },
  {
   "cell_type": "code",
   "execution_count": 11,
   "id": "9a4948bd",
   "metadata": {},
   "outputs": [
    {
     "data": {
      "text/plain": [
       "'Hello'"
      ]
     },
     "execution_count": 11,
     "metadata": {},
     "output_type": "execute_result"
    }
   ],
   "source": [
    "for x in range(0, 9):\n",
    "    globals()['string%s' % x] = 'Hello'\n",
    "string8"
   ]
  },
  {
   "cell_type": "code",
   "execution_count": 10,
   "id": "ebcb6008",
   "metadata": {},
   "outputs": [
    {
     "name": "stdout",
     "output_type": "stream",
     "text": [
      "{'name': 'Profile2', 'software': 'fwfqb', 'tags': 'vwb', 'description': 'fgsdfnr'}\n",
      "{'name': 'Test Profile', 'software': 'Paint', 'tags': 'drawing, designing', 'description': 'Shortcut keys for paint application.'}\n",
      "{'name': 'Vector Art', 'software': 'Illustrator', 'tags': 'Illustration, vector, tracing', 'description': 'Paint with vector brush and export for your best social in one click'}\n"
     ]
    }
   ],
   "source": [
    "import os, json\n",
    "for j in os.listdir('Actions'):\n",
    "    for i in os.listdir('Actions/'+j):\n",
    "        with open('Actions/'+j+\"/\"+i) as p:\n",
    "            var = json.load(p)\n",
    "            print(var)"
   ]
  },
  {
   "cell_type": "code",
   "execution_count": 15,
   "id": "5460eea8",
   "metadata": {},
   "outputs": [
    {
     "data": {
      "text/plain": [
       "['Actions', 'Figure UI']"
      ]
     },
     "execution_count": 15,
     "metadata": {},
     "output_type": "execute_result"
    }
   ],
   "source": [
    "dd = 'Actions/Figure UI/Action/add/sfasg.json'\n",
    "dd.split('/')"
   ]
  },
  {
   "cell_type": "code",
   "execution_count": 17,
   "id": "20d2d9d9",
   "metadata": {},
   "outputs": [
    {
     "data": {
      "text/plain": [
       "'Actions/Figure UI/Action'"
      ]
     },
     "execution_count": 17,
     "metadata": {},
     "output_type": "execute_result"
    }
   ],
   "source": [
    "'/'.join(dd.split('/')[:3])"
   ]
  },
  {
   "cell_type": "code",
   "execution_count": 1,
   "id": "6e538dfd",
   "metadata": {},
   "outputs": [
    {
     "name": "stdout",
     "output_type": "stream",
     "text": [
      "False\n",
      "True\n"
     ]
    }
   ],
   "source": [
    "def has_number(input_string):\n",
    "    return any(char.isdigit() for char in input_string)\n",
    "\n",
    "# Test with example strings\n",
    "print(has_number(\"Hello World\"))  # Output: False\n",
    "print(has_number(\"Hello123 World\"))  # Output: True\n"
   ]
  },
  {
   "cell_type": "code",
   "execution_count": 3,
   "id": "c3c4d56f",
   "metadata": {},
   "outputs": [
    {
     "data": {
      "text/plain": [
       "True"
      ]
     },
     "execution_count": 3,
     "metadata": {},
     "output_type": "execute_result"
    }
   ],
   "source": [
    "any(char.isdigit() for char in \"combo3\")"
   ]
  },
  {
   "cell_type": "code",
   "execution_count": 28,
   "id": "41cd9130",
   "metadata": {},
   "outputs": [
    {
     "name": "stdout",
     "output_type": "stream",
     "text": [
      "2\n"
     ]
    }
   ],
   "source": [
    "for char in \"combo2\":\n",
    "    if char.isdigit():\n",
    "        print(int(char))\n",
    "        return\n",
    "print(4)\n"
   ]
  },
  {
   "cell_type": "code",
   "execution_count": 26,
   "id": "7f2b6381",
   "metadata": {},
   "outputs": [
    {
     "data": {
      "text/plain": [
       "False"
      ]
     },
     "execution_count": 26,
     "metadata": {},
     "output_type": "execute_result"
    }
   ],
   "source": [
    "\"combo2\".isdigit()"
   ]
  },
  {
   "cell_type": "code",
   "execution_count": 15,
   "id": "890ff8e3",
   "metadata": {},
   "outputs": [
    {
     "name": "stdout",
     "output_type": "stream",
     "text": [
      "NOMAD_1689606235.json\n",
      "------\n",
      "{'name': 'Profile1_demo', 'software': 'Illutrator', 'tags': 'Illustration, editing', 'description': 'This will help the designers in their daily work.'}\n",
      "NOMAD_1689742510.json\n",
      "------\n",
      "{'name': 'Profile2_demo', 'software': 'Illutrator', 'tags': 'Illustration, editing', 'description': 'This will help the designers in their daily work.'}\n"
     ]
    }
   ],
   "source": [
    "import os, json\n",
    "for j in os.listdir('Actions'):\n",
    "    for i in os.listdir('Actions/'+j):\n",
    "        if i.endswith(\".json\"):\n",
    "            print(i)\n",
    "            print('------')\n",
    "            with open('Actions/'+j+\"/\"+i) as p:\n",
    "                data = json.load(p)    #data = p.read()\n",
    "                print(data)"
   ]
  },
  {
   "cell_type": "code",
   "execution_count": 18,
   "id": "4e1a758b",
   "metadata": {},
   "outputs": [
    {
     "ename": "UnsupportedOperation",
     "evalue": "not readable",
     "output_type": "error",
     "traceback": [
      "\u001b[1;31m---------------------------------------------------------------------------\u001b[0m",
      "\u001b[1;31mUnsupportedOperation\u001b[0m                      Traceback (most recent call last)",
      "Input \u001b[1;32mIn [18]\u001b[0m, in \u001b[0;36m<cell line: 1>\u001b[1;34m()\u001b[0m\n\u001b[0;32m      2\u001b[0m \u001b[38;5;28;01mif\u001b[39;00m i\u001b[38;5;241m.\u001b[39mendswith(\u001b[38;5;124m\"\u001b[39m\u001b[38;5;124m.json\u001b[39m\u001b[38;5;124m\"\u001b[39m):\n\u001b[0;32m      3\u001b[0m     \u001b[38;5;28;01mwith\u001b[39;00m \u001b[38;5;28mopen\u001b[39m(\u001b[38;5;124m\"\u001b[39m\u001b[38;5;124mActions/Profile1_demo/\u001b[39m\u001b[38;5;124m\"\u001b[39m\u001b[38;5;241m+\u001b[39mi, \u001b[38;5;124m'\u001b[39m\u001b[38;5;124mw\u001b[39m\u001b[38;5;124m'\u001b[39m) \u001b[38;5;28;01mas\u001b[39;00m file:\n\u001b[1;32m----> 4\u001b[0m         data \u001b[38;5;241m=\u001b[39m \u001b[43mjson\u001b[49m\u001b[38;5;241;43m.\u001b[39;49m\u001b[43mload\u001b[49m\u001b[43m(\u001b[49m\u001b[43mfile\u001b[49m\u001b[43m)\u001b[49m\n\u001b[0;32m      5\u001b[0m         data[\u001b[38;5;124m\"\u001b[39m\u001b[38;5;124mcolor\u001b[39m\u001b[38;5;124m\"\u001b[39m] \u001b[38;5;241m=\u001b[39m \u001b[38;5;124m\"\u001b[39m\u001b[38;5;124m#00ff00\u001b[39m\u001b[38;5;124m\"\u001b[39m\n\u001b[0;32m      6\u001b[0m         json\u001b[38;5;241m.\u001b[39mdump(data, file, indent\u001b[38;5;241m=\u001b[39m\u001b[38;5;241m4\u001b[39m)\n",
      "File \u001b[1;32m~\\anaconda3\\lib\\json\\__init__.py:293\u001b[0m, in \u001b[0;36mload\u001b[1;34m(fp, cls, object_hook, parse_float, parse_int, parse_constant, object_pairs_hook, **kw)\u001b[0m\n\u001b[0;32m    274\u001b[0m \u001b[38;5;28;01mdef\u001b[39;00m \u001b[38;5;21mload\u001b[39m(fp, \u001b[38;5;241m*\u001b[39m, \u001b[38;5;28mcls\u001b[39m\u001b[38;5;241m=\u001b[39m\u001b[38;5;28;01mNone\u001b[39;00m, object_hook\u001b[38;5;241m=\u001b[39m\u001b[38;5;28;01mNone\u001b[39;00m, parse_float\u001b[38;5;241m=\u001b[39m\u001b[38;5;28;01mNone\u001b[39;00m,\n\u001b[0;32m    275\u001b[0m         parse_int\u001b[38;5;241m=\u001b[39m\u001b[38;5;28;01mNone\u001b[39;00m, parse_constant\u001b[38;5;241m=\u001b[39m\u001b[38;5;28;01mNone\u001b[39;00m, object_pairs_hook\u001b[38;5;241m=\u001b[39m\u001b[38;5;28;01mNone\u001b[39;00m, \u001b[38;5;241m*\u001b[39m\u001b[38;5;241m*\u001b[39mkw):\n\u001b[0;32m    276\u001b[0m     \u001b[38;5;124;03m\"\"\"Deserialize ``fp`` (a ``.read()``-supporting file-like object containing\u001b[39;00m\n\u001b[0;32m    277\u001b[0m \u001b[38;5;124;03m    a JSON document) to a Python object.\u001b[39;00m\n\u001b[0;32m    278\u001b[0m \n\u001b[1;32m   (...)\u001b[0m\n\u001b[0;32m    291\u001b[0m \u001b[38;5;124;03m    kwarg; otherwise ``JSONDecoder`` is used.\u001b[39;00m\n\u001b[0;32m    292\u001b[0m \u001b[38;5;124;03m    \"\"\"\u001b[39;00m\n\u001b[1;32m--> 293\u001b[0m     \u001b[38;5;28;01mreturn\u001b[39;00m loads(\u001b[43mfp\u001b[49m\u001b[38;5;241;43m.\u001b[39;49m\u001b[43mread\u001b[49m\u001b[43m(\u001b[49m\u001b[43m)\u001b[49m,\n\u001b[0;32m    294\u001b[0m         \u001b[38;5;28mcls\u001b[39m\u001b[38;5;241m=\u001b[39m\u001b[38;5;28mcls\u001b[39m, object_hook\u001b[38;5;241m=\u001b[39mobject_hook,\n\u001b[0;32m    295\u001b[0m         parse_float\u001b[38;5;241m=\u001b[39mparse_float, parse_int\u001b[38;5;241m=\u001b[39mparse_int,\n\u001b[0;32m    296\u001b[0m         parse_constant\u001b[38;5;241m=\u001b[39mparse_constant, object_pairs_hook\u001b[38;5;241m=\u001b[39mobject_pairs_hook, \u001b[38;5;241m*\u001b[39m\u001b[38;5;241m*\u001b[39mkw)\n",
      "\u001b[1;31mUnsupportedOperation\u001b[0m: not readable"
     ]
    }
   ],
   "source": []
  },
  {
   "cell_type": "code",
   "execution_count": null,
   "id": "b02a51d4",
   "metadata": {},
   "outputs": [],
   "source": []
  }
 ],
 "metadata": {
  "kernelspec": {
   "display_name": "Python 3 (ipykernel)",
   "language": "python",
   "name": "python3"
  },
  "language_info": {
   "codemirror_mode": {
    "name": "ipython",
    "version": 3
   },
   "file_extension": ".py",
   "mimetype": "text/x-python",
   "name": "python",
   "nbconvert_exporter": "python",
   "pygments_lexer": "ipython3",
   "version": "3.9.12"
  }
 },
 "nbformat": 4,
 "nbformat_minor": 5
}
